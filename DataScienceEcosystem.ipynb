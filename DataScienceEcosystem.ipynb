{
 "cells": [
  {
   "cell_type": "markdown",
   "id": "28caa75d-f654-4acb-b59f-127d34d803ca",
   "metadata": {},
   "source": [
    "<h1> Data Science Tools and Ecosystem </h1>"
   ]
  },
  {
   "cell_type": "markdown",
   "id": "afc19d9f-c2c2-4a35-afc1-fd08b84652d8",
   "metadata": {},
   "source": [
    "In this notebook, Data Science Tools and Ecosystem are summarized."
   ]
  },
  {
   "cell_type": "markdown",
   "id": "e2e9aae5-019c-4674-a410-c08996a2f1f4",
   "metadata": {},
   "source": [
    "**Objectives:**\n",
    "\n",
    "-List popular languages for Data Science  \n",
    "-List popular tools for Data Science  \n",
    "-List popular packages for Data Science\n",
    "\n"
   ]
  },
  {
   "cell_type": "markdown",
   "id": "ec4de1d9-e94c-4f73-8b58-c20699d209c0",
   "metadata": {},
   "source": [
    "Some of the popular languages that Data Scientists use are:\n",
    "1. Python\n",
    "2. SQL\n",
    "3. R"
   ]
  },
  {
   "cell_type": "markdown",
   "id": "fc4866a7-ee6a-44be-909b-93e0e241dad5",
   "metadata": {},
   "source": [
    "Some of the commonly used libraries used by Data Scientists include:\n",
    "1. Pandas\n",
    "2. Numby\n",
    "3. Scikit-Learn"
   ]
  },
  {
   "cell_type": "markdown",
   "id": "e25f9139-7e0e-4664-bbbf-9fc212b39adb",
   "metadata": {},
   "source": [
    "|Data Science Tools|\n",
    "|------------------|\n",
    "|Jupyter Notebooks|\n",
    "|Excel|\n",
    "|Tableau|\n"
   ]
  },
  {
   "cell_type": "markdown",
   "id": "48a11f17-bf11-4ac4-9756-5013749e8c28",
   "metadata": {},
   "source": [
    "<h3>Below are a few examples of evaluating arithemetic expressions in Python </h3>\n"
   ]
  },
  {
   "cell_type": "code",
   "execution_count": 1,
   "id": "97222ce6-ad2e-41f0-a74c-8b6ae93e3f26",
   "metadata": {},
   "outputs": [
    {
     "data": {
      "text/plain": [
       "17"
      ]
     },
     "execution_count": 1,
     "metadata": {},
     "output_type": "execute_result"
    }
   ],
   "source": [
    "(3*4)+5"
   ]
  },
  {
   "cell_type": "code",
   "execution_count": 6,
   "id": "cf0d035e-bfab-4900-8342-1acefb9e2c33",
   "metadata": {},
   "outputs": [
    {
     "data": {
      "text/plain": [
       "3.3333333333333335"
      ]
     },
     "execution_count": 6,
     "metadata": {},
     "output_type": "execute_result"
    }
   ],
   "source": [
    "#This will convert 200 minutes to hours by dividing by 60\n",
    "\n",
    "200/60"
   ]
  },
  {
   "cell_type": "markdown",
   "id": "ef5205d7-fe03-4bf9-b5c4-8506730a7945",
   "metadata": {
    "tags": []
   },
   "source": [
    "<h2>Author</h2>\n",
    "Rijoe Gowra"
   ]
  },
  {
   "cell_type": "code",
   "execution_count": null,
   "id": "4a38a131-14e5-4752-b827-73b296dfe752",
   "metadata": {},
   "outputs": [],
   "source": []
  }
 ],
 "metadata": {
  "kernelspec": {
   "display_name": "Python",
   "language": "python",
   "name": "conda-env-python-py"
  },
  "language_info": {
   "codemirror_mode": {
    "name": "ipython",
    "version": 3
   },
   "file_extension": ".py",
   "mimetype": "text/x-python",
   "name": "python",
   "nbconvert_exporter": "python",
   "pygments_lexer": "ipython3",
   "version": "3.7.12"
  }
 },
 "nbformat": 4,
 "nbformat_minor": 5
}
